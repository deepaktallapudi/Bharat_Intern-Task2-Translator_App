{
 "cells": [
  {
   "cell_type": "code",
   "execution_count": 6,
   "id": "73060cb9",
   "metadata": {},
   "outputs": [
    {
     "name": "stdout",
     "output_type": "stream",
     "text": [
      "Collecting translate\n",
      "  Downloading translate-3.6.1-py2.py3-none-any.whl (12 kB)\n",
      "Requirement already satisfied: requests in c:\\users\\91938\\anaconda3\\lib\\site-packages (from translate) (2.28.1)\n",
      "Collecting libretranslatepy==2.1.1\n",
      "  Downloading libretranslatepy-2.1.1-py3-none-any.whl (3.2 kB)\n",
      "Requirement already satisfied: lxml in c:\\users\\91938\\anaconda3\\lib\\site-packages (from translate) (4.9.1)\n",
      "Requirement already satisfied: click in c:\\users\\91938\\appdata\\roaming\\python\\python310\\site-packages (from translate) (8.1.3)\n",
      "Requirement already satisfied: colorama in c:\\users\\91938\\anaconda3\\lib\\site-packages (from click->translate) (0.4.6)\n",
      "Requirement already satisfied: urllib3<1.27,>=1.21.1 in c:\\users\\91938\\anaconda3\\lib\\site-packages (from requests->translate) (1.26.14)\n",
      "Requirement already satisfied: idna<4,>=2.5 in c:\\users\\91938\\anaconda3\\lib\\site-packages (from requests->translate) (2.10)\n",
      "Requirement already satisfied: certifi>=2017.4.17 in c:\\users\\91938\\anaconda3\\lib\\site-packages (from requests->translate) (2022.12.7)\n",
      "Requirement already satisfied: charset-normalizer<3,>=2 in c:\\users\\91938\\anaconda3\\lib\\site-packages (from requests->translate) (2.0.4)\n",
      "Installing collected packages: libretranslatepy, translate\n",
      "Successfully installed libretranslatepy-2.1.1 translate-3.6.1\n",
      "Note: you may need to restart the kernel to use updated packages.\n"
     ]
    }
   ],
   "source": [
    "pip install translate"
   ]
  },
  {
   "cell_type": "code",
   "execution_count": 2,
   "id": "f2c29817",
   "metadata": {},
   "outputs": [
    {
     "name": "stdout",
     "output_type": "stream",
     "text": [
      "Input Text (en): Hello, how are you?\n",
      "Translated Text (fr): Bonjour, comment allez-vous ?\n",
      "Translated Text (it): Buongiorno, come va?\n"
     ]
    }
   ],
   "source": [
    "from translate import Translator\n",
    "\n",
    "# Function to translate text between two languages\n",
    "def translate_text(text, source_language, target_language):\n",
    "    translator = Translator(from_lang=source_language, to_lang=target_language)\n",
    "    translated_text = translator.translate(text)\n",
    "    return translated_text\n",
    "\n",
    "# Test the Translator AI\n",
    "input_text = \"Hello, how are you?\"\n",
    "source_language = 'en'  # English\n",
    "\n",
    "# Translating to French\n",
    "target_language = 'fr'  # French\n",
    "translated_text_fr = translate_text(input_text, source_language, target_language)\n",
    "print(f\"Input Text ({source_language}): {input_text}\")\n",
    "print(f\"Translated Text ({target_language}): {translated_text_fr}\")\n",
    "\n",
    "# Translating to Italian\n",
    "target_language = 'it'  # Italian\n",
    "translated_text_it = translate_text(input_text, source_language, target_language)\n",
    "print(f\"Translated Text ({target_language}): {translated_text_it}\")\n"
   ]
  },
  {
   "cell_type": "code",
   "execution_count": null,
   "id": "5404bdd5",
   "metadata": {},
   "outputs": [],
   "source": []
  }
 ],
 "metadata": {
  "kernelspec": {
   "display_name": "Python 3 (ipykernel)",
   "language": "python",
   "name": "python3"
  },
  "language_info": {
   "codemirror_mode": {
    "name": "ipython",
    "version": 3
   },
   "file_extension": ".py",
   "mimetype": "text/x-python",
   "name": "python",
   "nbconvert_exporter": "python",
   "pygments_lexer": "ipython3",
   "version": "3.10.9"
  }
 },
 "nbformat": 4,
 "nbformat_minor": 5
}
